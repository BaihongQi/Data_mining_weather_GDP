{
 "cells": [
  {
   "cell_type": "code",
   "execution_count": 1,
   "metadata": {
    "collapsed": true
   },
   "outputs": [],
   "source": [
    "from sklearn.cluster import KMeans\n",
    "from sklearn.preprocessing import StandardScaler\n",
    "import pandas as pd"
   ]
  },
  {
   "cell_type": "code",
   "execution_count": 2,
   "metadata": {
    "collapsed": false
   },
   "outputs": [],
   "source": [
    "import numpy as np"
   ]
  },
  {
   "cell_type": "code",
   "execution_count": 3,
   "metadata": {
    "collapsed": true
   },
   "outputs": [],
   "source": [
    "scaler = StandardScaler()"
   ]
  },
  {
   "cell_type": "code",
   "execution_count": 4,
   "metadata": {
    "collapsed": true
   },
   "outputs": [],
   "source": [
    "df = pd.read_csv('forecast_influence.csv')"
   ]
  },
  {
   "cell_type": "code",
   "execution_count": 5,
   "metadata": {
    "collapsed": false
   },
   "outputs": [],
   "source": [
    "df=df.values"
   ]
  },
  {
   "cell_type": "code",
   "execution_count": 6,
   "metadata": {
    "collapsed": false
   },
   "outputs": [],
   "source": [
    "df=df[:,1:]"
   ]
  },
  {
   "cell_type": "code",
   "execution_count": 7,
   "metadata": {
    "collapsed": true
   },
   "outputs": [],
   "source": [
    "weather=df[:,:-4]\n",
    "influence=df[:,-4:]"
   ]
  },
  {
   "cell_type": "code",
   "execution_count": 8,
   "metadata": {
    "collapsed": false
   },
   "outputs": [
    {
     "data": {
      "text/plain": [
       "(5914, 10)"
      ]
     },
     "execution_count": 8,
     "metadata": {},
     "output_type": "execute_result"
    }
   ],
   "source": [
    "weather.shape"
   ]
  },
  {
   "cell_type": "code",
   "execution_count": 9,
   "metadata": {
    "collapsed": false
   },
   "outputs": [
    {
     "data": {
      "text/plain": [
       "StandardScaler(copy=True, with_mean=True, with_std=True)"
      ]
     },
     "execution_count": 9,
     "metadata": {},
     "output_type": "execute_result"
    }
   ],
   "source": [
    "scaler.fit(weather)"
   ]
  },
  {
   "cell_type": "code",
   "execution_count": 10,
   "metadata": {
    "collapsed": false
   },
   "outputs": [],
   "source": [
    "df=scaler.fit_transform(weather)"
   ]
  },
  {
   "cell_type": "code",
   "execution_count": 11,
   "metadata": {
    "collapsed": false
   },
   "outputs": [
    {
     "data": {
      "text/plain": [
       "array([[  1.,   5.,  25., ...,   1.,   1.,   0.],\n",
       "       [  0.,   6.,  40., ...,   1.,   1.,   0.],\n",
       "       [  0.,   6.,  40., ...,   1.,   1.,   0.],\n",
       "       ..., \n",
       "       [  1.,   2.,  40., ...,   1.,   0.,   0.],\n",
       "       [  1.,   2.,  40., ...,   1.,   0.,   0.],\n",
       "       [  1.,   3.,  40., ...,   1.,   0.,   0.]])"
      ]
     },
     "execution_count": 11,
     "metadata": {},
     "output_type": "execute_result"
    }
   ],
   "source": [
    "weather"
   ]
  },
  {
   "cell_type": "code",
   "execution_count": 12,
   "metadata": {
    "collapsed": false
   },
   "outputs": [],
   "source": [
    "kmeans = KMeans(n_clusters=19, random_state=0).fit(weather)"
   ]
  },
  {
   "cell_type": "code",
   "execution_count": 13,
   "metadata": {
    "collapsed": false
   },
   "outputs": [
    {
     "data": {
      "text/plain": [
       "array([13,  7,  7, ...,  3,  3,  3], dtype=int32)"
      ]
     },
     "execution_count": 13,
     "metadata": {},
     "output_type": "execute_result"
    }
   ],
   "source": [
    "labels=kmeans.labels_\n",
    "np.round_(labels)"
   ]
  },
  {
   "cell_type": "code",
   "execution_count": 14,
   "metadata": {
    "collapsed": false
   },
   "outputs": [
    {
     "data": {
      "text/plain": [
       "array([13,  7,  7, ...,  3,  3,  3], dtype=int32)"
      ]
     },
     "execution_count": 14,
     "metadata": {},
     "output_type": "execute_result"
    }
   ],
   "source": [
    "labels"
   ]
  },
  {
   "cell_type": "code",
   "execution_count": 15,
   "metadata": {
    "collapsed": false
   },
   "outputs": [
    {
     "data": {
      "text/plain": [
       "array([[  1.00000000e+00,   6.79979466e+00,   1.48028747e+01,\n",
       "          7.80287474e-02,   7.37782341e+00,   5.46817248e+00,\n",
       "          6.16016427e-01,   5.87268994e-01,  -6.38378239e-16,\n",
       "          5.55111512e-17],\n",
       "       [  7.77156117e-16,   9.96330275e+00,   1.20000000e+02,\n",
       "         -3.05311332e-16,   1.97724771e+01,   6.85321101e+00,\n",
       "         -3.05311332e-15,  -4.60742555e-15,   5.32110092e-02,\n",
       "         -2.08166817e-17],\n",
       "       [  4.99600361e-16,   1.00000000e+01,   2.50000000e+02,\n",
       "          8.32667268e-17,   2.16865672e+01,   7.10447761e+00,\n",
       "          1.11022302e-16,   0.00000000e+00,   1.19402985e-01,\n",
       "         -3.46944695e-18],\n",
       "       [  1.22004357e-01,   7.82352941e+00,   3.85294118e+01,\n",
       "          2.33115468e-01,   7.13071895e+00,   8.01089325e+00,\n",
       "          5.51198257e-01,   5.35947712e-01,  -6.24500451e-16,\n",
       "          2.17864924e-03],\n",
       "       [  6.10622664e-16,   1.00000000e+01,   2.00000000e+02,\n",
       "          7.86516854e-02,   1.13820225e+01,   9.49438202e+00,\n",
       "          7.86516854e-02,   7.86516854e-02,   3.37078652e-02,\n",
       "          6.74157303e-02],\n",
       "       [  6.66133815e-16,   9.63157895e+00,   7.46710526e+01,\n",
       "          7.23684211e-02,   1.11776316e+01,   1.02894737e+01,\n",
       "          2.03947368e-01,   2.03947368e-01,   3.28947368e-02,\n",
       "          6.57894737e-03],\n",
       "       [  6.66133815e-16,   1.00000000e+01,   1.50529801e+02,\n",
       "          1.19205298e-01,   1.16026490e+01,   1.16357616e+01,\n",
       "          1.72185430e-01,   1.72185430e-01,   9.27152318e-02,\n",
       "          4.63576159e-02],\n",
       "       [  6.53594771e-03,   9.82352941e+00,   4.42483660e+01,\n",
       "          1.96078431e-02,   2.93202614e+01,   1.62352941e+01,\n",
       "          2.94117647e-01,   2.94117647e-01,   7.84313725e-01,\n",
       "          6.53594771e-03],\n",
       "       [  8.46938776e-01,   7.03571429e+00,   2.48571429e+01,\n",
       "          1.93877551e-01,   5.29591837e+00,   8.65561224e+00,\n",
       "          6.22448980e-01,   6.22448980e-01,  -6.10622664e-16,\n",
       "          1.52655666e-16],\n",
       "       [  1.00000000e+00,   5.23104693e+00,   1.40000000e+01,\n",
       "          1.15523466e-01,   9.97833935e+00,   2.11732852e+01,\n",
       "          8.48375451e-01,   8.15884477e-01,   6.49819495e-02,\n",
       "          2.09386282e-01],\n",
       "       [  1.33779264e-02,   9.75250836e+00,   5.31772575e+01,\n",
       "          5.01672241e-02,   2.50735786e+01,   6.14381271e+00,\n",
       "          1.67224080e-01,   1.40468227e-01,   4.94983278e-01,\n",
       "          1.35308431e-16],\n",
       "       [  6.10622664e-16,   9.89130435e+00,   1.20000000e+02,\n",
       "          9.71445147e-17,   8.03260870e+00,   1.79130435e+01,\n",
       "         -1.38777878e-15,   0.00000000e+00,  -4.44089210e-16,\n",
       "          5.97826087e-02],\n",
       "       [ -2.60902411e-15,   1.00000000e+01,   1.19475219e+02,\n",
       "         -4.99600361e-16,   2.83411079e+01,   1.27113703e+01,\n",
       "          5.83090379e-03,   5.83090379e-03,   7.02623907e-01,\n",
       "          2.91545190e-02],\n",
       "       [  4.06593407e-01,   8.84432234e+00,   3.23846154e+01,\n",
       "          4.76190476e-02,   2.52380952e+01,   5.85347985e+00,\n",
       "          5.20146520e-01,   5.09157509e-01,   4.94505495e-01,\n",
       "          1.28369537e-16],\n",
       "       [ -2.77555756e-16,   9.95368421e+00,   1.20000000e+02,\n",
       "          2.52631579e-02,   7.43578947e+00,   4.64842105e+00,\n",
       "          2.31578947e-02,   2.31578947e-02,  -6.24500451e-16,\n",
       "          7.63278329e-17],\n",
       "       [ -3.88578059e-16,   9.95794393e+00,   2.50467290e+02,\n",
       "          9.34579439e-03,   5.65420561e+00,   9.77102804e+00,\n",
       "          4.67289720e-02,   4.67289720e-02,  -4.85722573e-16,\n",
       "          3.27102804e-02],\n",
       "       [  1.00000000e+00,   3.21406634e+00,   6.79361179e+00,\n",
       "          3.43980344e-02,   5.13390663e+00,   6.33906634e+00,\n",
       "          7.98525799e-01,   6.96560197e-01,   1.22850123e-03,\n",
       "         -2.35922393e-16],\n",
       "       [  1.66533454e-16,   9.96938776e+00,   9.90816327e+01,\n",
       "          8.67346939e-02,   1.08979592e+01,   8.56632653e+00,\n",
       "          2.34693878e-01,   2.34693878e-01,   7.65306122e-02,\n",
       "          9.36750677e-17],\n",
       "       [  2.61627907e-02,   9.27906977e+00,   5.34593023e+01,\n",
       "          1.25000000e-01,   7.32848837e+00,   9.59011628e+00,\n",
       "          2.84883721e-01,   2.58720930e-01,  -5.82867088e-16,\n",
       "          2.61627907e-02]])"
      ]
     },
     "execution_count": 15,
     "metadata": {},
     "output_type": "execute_result"
    }
   ],
   "source": [
    "kmeans.cluster_centers_"
   ]
  },
  {
   "cell_type": "code",
   "execution_count": 16,
   "metadata": {
    "collapsed": false
   },
   "outputs": [],
   "source": [
    "np.savetxt(\"influence.csv\", influence, delimiter=\",\")\n",
    "np.savetxt(\"weather.csv\", weather, delimiter=\",\")"
   ]
  },
  {
   "cell_type": "code",
   "execution_count": 17,
   "metadata": {
    "collapsed": true
   },
   "outputs": [],
   "source": [
    "influence_cluster=np.c_[influence,labels]"
   ]
  },
  {
   "cell_type": "code",
   "execution_count": 18,
   "metadata": {
    "collapsed": false
   },
   "outputs": [
    {
     "data": {
      "text/plain": [
       "array([[  0.        ,   7.4       ,  30.        ,   1.        ,  13.        ],\n",
       "       [  0.        ,   7.4       ,  30.        ,   1.        ,   7.        ],\n",
       "       [  0.        ,   7.4       ,  30.        ,   1.        ,   7.        ],\n",
       "       ..., \n",
       "       [  0.        ,   4.05      ,  32.        ,   1.        ,   3.        ],\n",
       "       [  0.        ,   4.05      ,  32.        ,   1.        ,   3.        ],\n",
       "       [  1.        ,   1.71666667,  32.        ,   2.        ,   3.        ]])"
      ]
     },
     "execution_count": 18,
     "metadata": {},
     "output_type": "execute_result"
    }
   ],
   "source": [
    "influence_cluster"
   ]
  },
  {
   "cell_type": "code",
   "execution_count": 19,
   "metadata": {
    "collapsed": true
   },
   "outputs": [],
   "source": [
    "np.save(\"kmean_result\",influence_cluster)"
   ]
  }
 ],
 "metadata": {
  "anaconda-cloud": {},
  "kernelspec": {
   "display_name": "Python [default]",
   "language": "python",
   "name": "python3"
  },
  "language_info": {
   "codemirror_mode": {
    "name": "ipython",
    "version": 3
   },
   "file_extension": ".py",
   "mimetype": "text/x-python",
   "name": "python",
   "nbconvert_exporter": "python",
   "pygments_lexer": "ipython3",
   "version": "3.5.2"
  }
 },
 "nbformat": 4,
 "nbformat_minor": 1
}
