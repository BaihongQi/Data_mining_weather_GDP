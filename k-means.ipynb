{
 "cells": [
  {
   "cell_type": "code",
   "execution_count": 1,
   "metadata": {
    "collapsed": true
   },
   "outputs": [],
   "source": [
    "from sklearn.cluster import KMeans\n",
    "from sklearn.preprocessing import StandardScaler\n",
    "import pandas as pd\n",
    "from sklearn.metrics import silhouette_score\n",
    "import matplotlib.pyplot as plt"
   ]
  },
  {
   "cell_type": "code",
   "execution_count": 2,
   "metadata": {},
   "outputs": [],
   "source": [
    "import numpy as np"
   ]
  },
  {
   "cell_type": "code",
   "execution_count": 3,
   "metadata": {
    "collapsed": true
   },
   "outputs": [],
   "source": [
    "scaler = StandardScaler()"
   ]
  },
  {
   "cell_type": "code",
   "execution_count": 4,
   "metadata": {
    "collapsed": true
   },
   "outputs": [],
   "source": [
    "df = pd.read_csv('forecast_influence.csv')"
   ]
  },
  {
   "cell_type": "code",
   "execution_count": 5,
   "metadata": {},
   "outputs": [
    {
     "data": {
      "text/plain": [
       "array([[  0.00000000e+00,   1.00000000e+00,   5.00000000e+00, ...,\n",
       "          7.40000000e+00,   3.00000000e+01,   1.00000000e+00],\n",
       "       [  1.00000000e+00,   0.00000000e+00,   6.00000000e+00, ...,\n",
       "          7.40000000e+00,   3.00000000e+01,   1.00000000e+00],\n",
       "       [  2.00000000e+00,   0.00000000e+00,   6.00000000e+00, ...,\n",
       "          7.40000000e+00,   3.00000000e+01,   1.00000000e+00],\n",
       "       ..., \n",
       "       [  5.91100000e+03,   1.00000000e+00,   2.00000000e+00, ...,\n",
       "          4.05000000e+00,   3.20000000e+01,   1.00000000e+00],\n",
       "       [  5.91200000e+03,   1.00000000e+00,   2.00000000e+00, ...,\n",
       "          4.05000000e+00,   3.20000000e+01,   1.00000000e+00],\n",
       "       [  5.91300000e+03,   1.00000000e+00,   3.00000000e+00, ...,\n",
       "          1.71666667e+00,   3.20000000e+01,   2.00000000e+00]])"
      ]
     },
     "execution_count": 5,
     "metadata": {},
     "output_type": "execute_result"
    }
   ],
   "source": [
    "df=df.values\n",
    "df"
   ]
  },
  {
   "cell_type": "code",
   "execution_count": 6,
   "metadata": {},
   "outputs": [],
   "source": [
    "df=df[:,1:]"
   ]
  },
  {
   "cell_type": "code",
   "execution_count": 7,
   "metadata": {
    "collapsed": true
   },
   "outputs": [],
   "source": [
    "weather=df[:,:-4]\n",
    "influence=df[:,-4:]"
   ]
  },
  {
   "cell_type": "code",
   "execution_count": 8,
   "metadata": {},
   "outputs": [
    {
     "data": {
      "text/plain": [
       "array([[  1.,   5.,  25., ...,   1.,   1.,   0.],\n",
       "       [  0.,   6.,  40., ...,   1.,   1.,   0.],\n",
       "       [  0.,   6.,  40., ...,   1.,   1.,   0.],\n",
       "       ..., \n",
       "       [  1.,   2.,  40., ...,   1.,   0.,   0.],\n",
       "       [  1.,   2.,  40., ...,   1.,   0.,   0.],\n",
       "       [  1.,   3.,  40., ...,   1.,   0.,   0.]])"
      ]
     },
     "execution_count": 8,
     "metadata": {},
     "output_type": "execute_result"
    }
   ],
   "source": [
    "weather"
   ]
  },
  {
   "cell_type": "code",
   "execution_count": 9,
   "metadata": {},
   "outputs": [
    {
     "data": {
      "text/plain": [
       "(5914, 10)"
      ]
     },
     "execution_count": 9,
     "metadata": {},
     "output_type": "execute_result"
    }
   ],
   "source": [
    "weather.shape"
   ]
  },
  {
   "cell_type": "code",
   "execution_count": 10,
   "metadata": {},
   "outputs": [],
   "source": [
    "weather=StandardScaler().fit_transform(weather)"
   ]
  },
  {
   "cell_type": "code",
   "execution_count": 11,
   "metadata": {},
   "outputs": [
    {
     "data": {
      "text/plain": [
       "array([[ 1.35215081, -1.01514804, -0.73704314, ...,  1.38999185,\n",
       "         2.65036287, -0.13830415],\n",
       "       [-0.73956248, -0.68543016, -0.49772607, ...,  1.38999185,\n",
       "         2.65036287, -0.13830415],\n",
       "       [-0.73956248, -0.68543016, -0.49772607, ...,  1.38999185,\n",
       "         2.65036287, -0.13830415],\n",
       "       ..., \n",
       "       [ 1.35215081, -2.00430166, -0.49772607, ...,  1.38999185,\n",
       "        -0.37730683, -0.13830415],\n",
       "       [ 1.35215081, -2.00430166, -0.49772607, ...,  1.38999185,\n",
       "        -0.37730683, -0.13830415],\n",
       "       [ 1.35215081, -1.67458378, -0.49772607, ...,  1.38999185,\n",
       "        -0.37730683, -0.13830415]])"
      ]
     },
     "execution_count": 11,
     "metadata": {},
     "output_type": "execute_result"
    }
   ],
   "source": [
    "weather"
   ]
  },
  {
   "cell_type": "code",
   "execution_count": 12,
   "metadata": {},
   "outputs": [],
   "source": [
    "sc=[]\n",
    "for i in range(2,30):\n",
    "    kmeans = KMeans(n_clusters=i, random_state=0).fit(weather)\n",
    "    silhouette_avg = silhouette_score(weather, kmeans.labels_)\n",
    "    sc.append(silhouette_avg)"
   ]
  },
  {
   "cell_type": "code",
   "execution_count": 13,
   "metadata": {},
   "outputs": [
    {
     "data": {
      "text/plain": [
       "[0.36299252943304727,\n",
       " 0.384180745132846,\n",
       " 0.40505273296739064,\n",
       " 0.43297936741151866,\n",
       " 0.40373632994464392,\n",
       " 0.41421289471581296,\n",
       " 0.38855921354073264,\n",
       " 0.36125881616516092,\n",
       " 0.37710375772936983,\n",
       " 0.38075989943077715,\n",
       " 0.3708649583002146,\n",
       " 0.37207126986092209,\n",
       " 0.36111752647750706,\n",
       " 0.36639299218931609,\n",
       " 0.37292147110561735,\n",
       " 0.37669522091707841,\n",
       " 0.36257958915613314,\n",
       " 0.37202298605813156,\n",
       " 0.37293018325726551,\n",
       " 0.36370112443136199,\n",
       " 0.34562205543328078,\n",
       " 0.36186645295777181,\n",
       " 0.37335653032525873,\n",
       " 0.34762151461031859,\n",
       " 0.35633829293507224,\n",
       " 0.34416912908583591,\n",
       " 0.36946681667642278,\n",
       " 0.36484833397169547]"
      ]
     },
     "execution_count": 13,
     "metadata": {},
     "output_type": "execute_result"
    }
   ],
   "source": [
    "sc"
   ]
  },
  {
   "cell_type": "code",
   "execution_count": 14,
   "metadata": {},
   "outputs": [
    {
     "data": {
      "image/png": "[encoded data removed]",
      "text/plain": [
       "<matplotlib.figure.Figure at 0x7f0d8a21c160>"
      ]
     },
     "metadata": {},
     "output_type": "display_data"
    }
   ],
   "source": [
    "x_a=range(2,len(sc)+2)\n",
    "plt.plot(x_a,sc)\n",
    "plt.show()"
   ]
  },
  {
   "cell_type": "code",
   "execution_count": 15,
   "metadata": {},
   "outputs": [],
   "source": [
    "kmeans = KMeans(n_clusters=5, random_state=0).fit(weather)"
   ]
  },
  {
   "cell_type": "code",
   "execution_count": 16,
   "metadata": {},
   "outputs": [
    {
     "data": {
      "text/plain": [
       "array([2, 2, 2, ..., 4, 4, 1], dtype=int32)"
      ]
     },
     "execution_count": 16,
     "metadata": {},
     "output_type": "execute_result"
    }
   ],
   "source": [
    "labels=kmeans.labels_\n",
    "np.round_(labels)"
   ]
  },
  {
   "cell_type": "code",
   "execution_count": 17,
   "metadata": {},
   "outputs": [
    {
     "data": {
      "text/plain": [
       "array([2, 2, 2, ..., 4, 4, 1], dtype=int32)"
      ]
     },
     "execution_count": 17,
     "metadata": {},
     "output_type": "execute_result"
    }
   ],
   "source": [
    "labels"
   ]
  },
  {
   "cell_type": "code",
   "execution_count": 18,
   "metadata": {},
   "outputs": [],
   "source": [
    "#kmeans.cluster_centers_"
   ]
  },
  {
   "cell_type": "code",
   "execution_count": 19,
   "metadata": {},
   "outputs": [],
   "source": [
    "np.savetxt(\"influence.csv\", influence, delimiter=\",\")\n",
    "np.savetxt(\"weather.csv\", weather, delimiter=\",\")"
   ]
  },
  {
   "cell_type": "code",
   "execution_count": 20,
   "metadata": {
    "collapsed": true
   },
   "outputs": [],
   "source": [
    "influence_cluster=np.c_[influence,labels]"
   ]
  },
  {
   "cell_type": "code",
   "execution_count": 21,
   "metadata": {},
   "outputs": [
    {
     "data": {
      "text/plain": [
       "array([[  0.        ,   7.4       ,  30.        ,   1.        ,   2.        ],\n",
       "       [  0.        ,   7.4       ,  30.        ,   1.        ,   2.        ],\n",
       "       [  0.        ,   7.4       ,  30.        ,   1.        ,   2.        ],\n",
       "       ..., \n",
       "       [  0.        ,   4.05      ,  32.        ,   1.        ,   4.        ],\n",
       "       [  0.        ,   4.05      ,  32.        ,   1.        ,   4.        ],\n",
       "       [  1.        ,   1.71666667,  32.        ,   2.        ,   1.        ]])"
      ]
     },
     "execution_count": 21,
     "metadata": {},
     "output_type": "execute_result"
    }
   ],
   "source": [
    "influence_cluster"
   ]
  },
  {
   "cell_type": "code",
   "execution_count": 22,
   "metadata": {
    "collapsed": true
   },
   "outputs": [],
   "source": [
    "np.save(\"kmean_result\",influence_cluster)"
   ]
  }
 ],
 "metadata": {
  "anaconda-cloud": {},
  "kernelspec": {
   "display_name": "Python 3",
   "language": "python",
   "name": "python3"
  },
  "language_info": {
   "codemirror_mode": {
    "name": "ipython",
    "version": 3
   },
   "file_extension": ".py",
   "mimetype": "text/x-python",
   "name": "python",
   "nbconvert_exporter": "python",
   "pygments_lexer": "ipython3",
   "version": "3.6.3"
  }
 },
 "nbformat": 4,
 "nbformat_minor": 1
}
