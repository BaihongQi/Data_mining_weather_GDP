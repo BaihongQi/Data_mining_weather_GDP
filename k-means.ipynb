{
 "cells": [
  {
   "cell_type": "code",
   "execution_count": 1,
   "metadata": {
    "collapsed": true
   },
   "outputs": [],
   "source": [
    "from sklearn.cluster import KMeans\n",
    "from sklearn.preprocessing import StandardScaler\n",
    "import pandas as pd"
   ]
  },
  {
   "cell_type": "code",
   "execution_count": 2,
   "metadata": {
    "collapsed": false
   },
   "outputs": [],
   "source": [
    "import numpy as np"
   ]
  },
  {
   "cell_type": "code",
   "execution_count": 3,
   "metadata": {
    "collapsed": true
   },
   "outputs": [],
   "source": [
    "scaler = StandardScaler()"
   ]
  },
  {
   "cell_type": "code",
   "execution_count": 4,
   "metadata": {
    "collapsed": true
   },
   "outputs": [],
   "source": [
    "df = pd.read_csv('forecast_influence.csv')"
   ]
  },
  {
   "cell_type": "code",
   "execution_count": 5,
   "metadata": {
    "collapsed": false
   },
   "outputs": [],
   "source": [
    "df=df.values"
   ]
  },
  {
   "cell_type": "code",
   "execution_count": 6,
   "metadata": {
    "collapsed": false
   },
   "outputs": [],
   "source": [
    "df=df[:,1:]"
   ]
  },
  {
   "cell_type": "code",
   "execution_count": 7,
   "metadata": {
    "collapsed": true
   },
   "outputs": [],
   "source": [
    "df=df[:,:-4]"
   ]
  },
  {
   "cell_type": "code",
   "execution_count": 8,
   "metadata": {
    "collapsed": false
   },
   "outputs": [
    {
     "data": {
      "text/plain": [
       "(5914, 10)"
      ]
     },
     "execution_count": 8,
     "metadata": {},
     "output_type": "execute_result"
    }
   ],
   "source": [
    "df.shape"
   ]
  },
  {
   "cell_type": "code",
   "execution_count": 9,
   "metadata": {
    "collapsed": false
   },
   "outputs": [
    {
     "data": {
      "text/plain": [
       "StandardScaler(copy=True, with_mean=True, with_std=True)"
      ]
     },
     "execution_count": 9,
     "metadata": {},
     "output_type": "execute_result"
    }
   ],
   "source": [
    "scaler.fit(df)"
   ]
  },
  {
   "cell_type": "code",
   "execution_count": 10,
   "metadata": {
    "collapsed": false
   },
   "outputs": [],
   "source": [
    "df=scaler.fit_transform(df)"
   ]
  },
  {
   "cell_type": "code",
   "execution_count": 11,
   "metadata": {
    "collapsed": false
   },
   "outputs": [
    {
     "data": {
      "text/plain": [
       "array([[ 1.35215081, -1.01514804, -0.73704314, ...,  1.38999185,\n",
       "         2.65036287, -0.13830415],\n",
       "       [-0.73956248, -0.68543016, -0.49772607, ...,  1.38999185,\n",
       "         2.65036287, -0.13830415],\n",
       "       [-0.73956248, -0.68543016, -0.49772607, ...,  1.38999185,\n",
       "         2.65036287, -0.13830415],\n",
       "       ..., \n",
       "       [ 1.35215081, -2.00430166, -0.49772607, ...,  1.38999185,\n",
       "        -0.37730683, -0.13830415],\n",
       "       [ 1.35215081, -2.00430166, -0.49772607, ...,  1.38999185,\n",
       "        -0.37730683, -0.13830415],\n",
       "       [ 1.35215081, -1.67458378, -0.49772607, ...,  1.38999185,\n",
       "        -0.37730683, -0.13830415]])"
      ]
     },
     "execution_count": 11,
     "metadata": {},
     "output_type": "execute_result"
    }
   ],
   "source": [
    "df"
   ]
  },
  {
   "cell_type": "code",
   "execution_count": 12,
   "metadata": {
    "collapsed": false
   },
   "outputs": [],
   "source": [
    "kmeans = KMeans(n_clusters=19, random_state=0).fit(df)"
   ]
  },
  {
   "cell_type": "code",
   "execution_count": 13,
   "metadata": {
    "collapsed": false
   },
   "outputs": [
    {
     "data": {
      "text/plain": [
       "array([ 5,  5,  5, ...,  6,  6, 14], dtype=int32)"
      ]
     },
     "execution_count": 13,
     "metadata": {},
     "output_type": "execute_result"
    }
   ],
   "source": [
    "labels=kmeans.labels_\n",
    "np.round_(labels)"
   ]
  },
  {
   "cell_type": "code",
   "execution_count": 14,
   "metadata": {
    "collapsed": false
   },
   "outputs": [
    {
     "data": {
      "text/plain": [
       "array([ 5,  5,  5, ...,  6,  6, 14], dtype=int32)"
      ]
     },
     "execution_count": 14,
     "metadata": {},
     "output_type": "execute_result"
    }
   ],
   "source": [
    "labels"
   ]
  },
  {
   "cell_type": "code",
   "execution_count": 15,
   "metadata": {
    "collapsed": false
   },
   "outputs": [
    {
     "data": {
      "text/plain": [
       "array([[-0.73956248,  0.62089152,  0.77918365, -0.27719855, -0.53749297,\n",
       "        -0.58790145, -0.75577831, -0.71942868, -0.37730683, -0.13830415],\n",
       "       [ 1.2275381 , -1.4087049 , -0.90419168, -0.27719855, -0.51864257,\n",
       "         1.51022129,  1.32313933,  1.32715805, -0.37730683, -0.13830415],\n",
       "       [-0.73956248,  0.63344134,  0.39531651, -0.27719855,  1.92563393,\n",
       "         0.84567361, -0.75577831, -0.71942868,  2.65036287, -0.13830415],\n",
       "       [ 1.31728892, -0.82281261, -0.89339695,  0.43500029, -0.01938998,\n",
       "         2.96267256,  1.32313933,  1.31967783, -0.2763845 ,  7.23044115],\n",
       "       [-0.73956248,  0.61481321,  0.45075369, -0.27719855,  0.84423217,\n",
       "        -0.97732045, -0.73228771, -0.71942868, -0.37730683, -0.13830415],\n",
       "       [ 0.21504493,  0.07579768, -0.56464919, -0.2511266 ,  1.94344394,\n",
       "         0.32543399,  1.32313933,  1.38999185,  2.65036287, -0.13830415],\n",
       "       [ 1.35215081, -1.65397642, -0.745499  ,  3.60752242, -0.39544319,\n",
       "         0.00783884,  1.31274474,  1.37944475, -0.21078499, -0.13830415],\n",
       "       [ 1.35215081,  0.62193955, -0.84552426, -0.27719855, -0.51586854,\n",
       "        -0.25728897, -0.69534466, -0.71942868, -0.37730683, -0.13830415],\n",
       "       [-0.73956248,  0.62419691,  2.71603119, -0.27719855, -0.35547487,\n",
       "        -0.0112225 , -0.70396728, -0.66685745, -0.37730683, -0.13830415],\n",
       "       [-0.45798569,  0.36079002,  0.07908941,  3.60752242, -0.57018941,\n",
       "        -0.09776924, -0.75577831, -0.71942868, -0.37730683, -0.13830415],\n",
       "       [-0.73956248,  0.22257794, -0.25343877, -0.27719855, -0.25765665,\n",
       "        -0.07781881,  1.32313933,  1.38999185, -0.37730683, -0.13830415],\n",
       "       [-0.72803788,  0.58620902,  0.36021131, -0.27719855, -0.4837452 ,\n",
       "         1.41863913, -0.75577831, -0.71942868, -0.37730683, -0.13830415],\n",
       "       [-0.73956248,  0.63344134,  0.53224112, -0.27719855,  0.82715889,\n",
       "         0.40136112, -0.75577831, -0.71942868, -0.37730683, -0.13830415],\n",
       "       [-0.73956248,  0.57211914, -0.3482873 , -0.27719855, -0.52119647,\n",
       "        -0.50888978, -0.66612148, -0.71942868, -0.37730683, -0.13830415],\n",
       "       [ 1.35215081, -1.24320903, -0.9378273 , -0.27719855, -0.61147204,\n",
       "        -0.44134842,  1.32313933,  1.38999185, -0.37730683, -0.13830415],\n",
       "       [-0.73956248, -0.27223941, -0.07715411,  3.60752242, -0.50682036,\n",
       "        -0.18130066,  1.32313933,  1.38999185, -0.26233203, -0.13830415],\n",
       "       [ 1.35215081, -1.43122059, -0.99573348, -0.27719855, -0.83844219,\n",
       "        -0.48658321, -0.11937495, -0.71942868, -0.37730683, -0.13830415],\n",
       "       [-0.73956248,  0.63344134,  0.10984622, -0.27719855,  1.78873091,\n",
       "        -0.82062888, -0.7218368 , -0.71942868,  2.65036287, -0.13830415],\n",
       "       [-0.73956248,  0.63344134,  1.06956606, -0.27719855,  0.52972944,\n",
       "         3.10084176, -0.75577831, -0.71942868,  0.27571997,  7.23044115]])"
      ]
     },
     "execution_count": 15,
     "metadata": {},
     "output_type": "execute_result"
    }
   ],
   "source": [
    "kmeans.cluster_centers_"
   ]
  },
  {
   "cell_type": "code",
   "execution_count": 16,
   "metadata": {
    "collapsed": false
   },
   "outputs": [],
   "source": [
    "np.savetxt(\"label.csv\", labels, delimiter=\",\")\n",
    "np.savetxt(\"points.csv\", df, delimiter=\",\")"
   ]
  },
  {
   "cell_type": "code",
   "execution_count": null,
   "metadata": {
    "collapsed": true
   },
   "outputs": [],
   "source": []
  }
 ],
 "metadata": {
  "anaconda-cloud": {},
  "kernelspec": {
   "display_name": "Python [default]",
   "language": "python",
   "name": "python3"
  },
  "language_info": {
   "codemirror_mode": {
    "name": "ipython",
    "version": 3
   },
   "file_extension": ".py",
   "mimetype": "text/x-python",
   "name": "python",
   "nbconvert_exporter": "python",
   "pygments_lexer": "ipython3",
   "version": "3.5.2"
  }
 },
 "nbformat": 4,
 "nbformat_minor": 1
}
