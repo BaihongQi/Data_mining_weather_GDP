{
 "cells": [
  {
   "cell_type": "code",
   "execution_count": 1,
   "metadata": {
    "collapsed": true
   },
   "outputs": [],
   "source": [
    "from sklearn.cluster import DBSCAN"
   ]
  },
  {
   "cell_type": "code",
   "execution_count": 2,
   "metadata": {
    "collapsed": true
   },
   "outputs": [],
   "source": [
    "from sklearn.preprocessing import StandardScaler\n",
    "from sklearn.neighbors import DistanceMetric"
   ]
  },
  {
   "cell_type": "code",
   "execution_count": 3,
   "metadata": {
    "collapsed": true
   },
   "outputs": [],
   "source": [
    "import pandas as pd\n",
    "import numpy as np\n",
    "import matplotlib.pyplot as plt"
   ]
  },
  {
   "cell_type": "code",
   "execution_count": 4,
   "metadata": {
    "collapsed": true
   },
   "outputs": [],
   "source": [
    "df = pd.read_csv('forecast_influence.csv')"
   ]
  },
  {
   "cell_type": "code",
   "execution_count": 5,
   "metadata": {
    "collapsed": true
   },
   "outputs": [],
   "source": [
    "df=df.values"
   ]
  },
  {
   "cell_type": "code",
   "execution_count": 6,
   "metadata": {
    "collapsed": false
   },
   "outputs": [
    {
     "data": {
      "text/plain": [
       "array([[  0.00000000e+00,   1.00000000e+00,   5.00000000e+00, ...,\n",
       "          7.40000000e+00,   3.00000000e+01,   1.00000000e+00],\n",
       "       [  1.00000000e+00,   0.00000000e+00,   6.00000000e+00, ...,\n",
       "          7.40000000e+00,   3.00000000e+01,   1.00000000e+00],\n",
       "       [  2.00000000e+00,   0.00000000e+00,   6.00000000e+00, ...,\n",
       "          7.40000000e+00,   3.00000000e+01,   1.00000000e+00],\n",
       "       ..., \n",
       "       [  5.91100000e+03,   1.00000000e+00,   2.00000000e+00, ...,\n",
       "          4.05000000e+00,   3.20000000e+01,   1.00000000e+00],\n",
       "       [  5.91200000e+03,   1.00000000e+00,   2.00000000e+00, ...,\n",
       "          4.05000000e+00,   3.20000000e+01,   1.00000000e+00],\n",
       "       [  5.91300000e+03,   1.00000000e+00,   3.00000000e+00, ...,\n",
       "          1.71666667e+00,   3.20000000e+01,   2.00000000e+00]])"
      ]
     },
     "execution_count": 6,
     "metadata": {},
     "output_type": "execute_result"
    }
   ],
   "source": [
    "df"
   ]
  },
  {
   "cell_type": "code",
   "execution_count": 7,
   "metadata": {
    "collapsed": false
   },
   "outputs": [
    {
     "data": {
      "text/plain": [
       "(5914, 15)"
      ]
     },
     "execution_count": 7,
     "metadata": {},
     "output_type": "execute_result"
    }
   ],
   "source": [
    "np.shape(df)"
   ]
  },
  {
   "cell_type": "code",
   "execution_count": 8,
   "metadata": {
    "collapsed": true
   },
   "outputs": [],
   "source": [
    "df=df[:,1:]"
   ]
  },
  {
   "cell_type": "code",
   "execution_count": 9,
   "metadata": {
    "collapsed": false
   },
   "outputs": [
    {
     "data": {
      "text/plain": [
       "array([[  1.        ,   5.        ,  25.        , ...,   7.4       ,\n",
       "         30.        ,   1.        ],\n",
       "       [  0.        ,   6.        ,  40.        , ...,   7.4       ,\n",
       "         30.        ,   1.        ],\n",
       "       [  0.        ,   6.        ,  40.        , ...,   7.4       ,\n",
       "         30.        ,   1.        ],\n",
       "       ..., \n",
       "       [  1.        ,   2.        ,  40.        , ...,   4.05      ,\n",
       "         32.        ,   1.        ],\n",
       "       [  1.        ,   2.        ,  40.        , ...,   4.05      ,\n",
       "         32.        ,   1.        ],\n",
       "       [  1.        ,   3.        ,  40.        , ...,   1.71666667,\n",
       "         32.        ,   2.        ]])"
      ]
     },
     "execution_count": 9,
     "metadata": {},
     "output_type": "execute_result"
    }
   ],
   "source": [
    "df"
   ]
  },
  {
   "cell_type": "code",
   "execution_count": 10,
   "metadata": {
    "collapsed": true
   },
   "outputs": [],
   "source": [
    "weather=df[:,0:-4]\n",
    "influence=df[:,-4:]"
   ]
  },
  {
   "cell_type": "code",
   "execution_count": 11,
   "metadata": {
    "collapsed": false
   },
   "outputs": [
    {
     "data": {
      "text/plain": [
       "array([[  1.,   5.,  25., ...,   1.,   1.,   0.],\n",
       "       [  0.,   6.,  40., ...,   1.,   1.,   0.],\n",
       "       [  0.,   6.,  40., ...,   1.,   1.,   0.],\n",
       "       ..., \n",
       "       [  1.,   2.,  40., ...,   1.,   0.,   0.],\n",
       "       [  1.,   2.,  40., ...,   1.,   0.,   0.],\n",
       "       [  1.,   3.,  40., ...,   1.,   0.,   0.]])"
      ]
     },
     "execution_count": 11,
     "metadata": {},
     "output_type": "execute_result"
    }
   ],
   "source": [
    "weather"
   ]
  },
  {
   "cell_type": "code",
   "execution_count": 12,
   "metadata": {
    "collapsed": false
   },
   "outputs": [
    {
     "data": {
      "text/plain": [
       "(5914, 10)"
      ]
     },
     "execution_count": 12,
     "metadata": {},
     "output_type": "execute_result"
    }
   ],
   "source": [
    "np.shape(weather)"
   ]
  },
  {
   "cell_type": "code",
   "execution_count": 13,
   "metadata": {
    "collapsed": true
   },
   "outputs": [],
   "source": [
    "weather=StandardScaler().fit_transform(weather)"
   ]
  },
  {
   "cell_type": "code",
   "execution_count": 14,
   "metadata": {
    "collapsed": false
   },
   "outputs": [
    {
     "data": {
      "text/plain": [
       "array([[ 1.35215081, -1.01514804, -0.73704314, ...,  1.38999185,\n",
       "         2.65036287, -0.13830415],\n",
       "       [-0.73956248, -0.68543016, -0.49772607, ...,  1.38999185,\n",
       "         2.65036287, -0.13830415],\n",
       "       [-0.73956248, -0.68543016, -0.49772607, ...,  1.38999185,\n",
       "         2.65036287, -0.13830415],\n",
       "       ..., \n",
       "       [ 1.35215081, -2.00430166, -0.49772607, ...,  1.38999185,\n",
       "        -0.37730683, -0.13830415],\n",
       "       [ 1.35215081, -2.00430166, -0.49772607, ...,  1.38999185,\n",
       "        -0.37730683, -0.13830415],\n",
       "       [ 1.35215081, -1.67458378, -0.49772607, ...,  1.38999185,\n",
       "        -0.37730683, -0.13830415]])"
      ]
     },
     "execution_count": 14,
     "metadata": {},
     "output_type": "execute_result"
    }
   ],
   "source": [
    "weather"
   ]
  },
  {
   "cell_type": "code",
   "execution_count": 15,
   "metadata": {
    "collapsed": true
   },
   "outputs": [],
   "source": [
    "dist = DistanceMetric.get_metric('euclidean')\n",
    "pairdist=dist.pairwise(weather)"
   ]
  },
  {
   "cell_type": "code",
   "execution_count": 16,
   "metadata": {
    "collapsed": false
   },
   "outputs": [
    {
     "data": {
      "text/plain": [
       "array([[ 0.        ,  2.13365975,  2.13365975, ...,  5.84155899,\n",
       "         5.84155899,  4.529051  ],\n",
       "       [ 2.13365975,  0.        ,  0.        , ...,  6.3104447 ,\n",
       "         6.3104447 ,  5.10051781],\n",
       "       [ 2.13365975,  0.        ,  0.        , ...,  6.3104447 ,\n",
       "         6.3104447 ,  5.10051781],\n",
       "       ..., \n",
       "       [ 5.84155899,  6.3104447 ,  6.3104447 , ...,  0.        ,\n",
       "         0.        ,  3.9512309 ],\n",
       "       [ 5.84155899,  6.3104447 ,  6.3104447 , ...,  0.        ,\n",
       "         0.        ,  3.9512309 ],\n",
       "       [ 4.529051  ,  5.10051781,  5.10051781, ...,  3.9512309 ,\n",
       "         3.9512309 ,  0.        ]])"
      ]
     },
     "execution_count": 16,
     "metadata": {},
     "output_type": "execute_result"
    }
   ],
   "source": [
    "pairdist"
   ]
  },
  {
   "cell_type": "code",
   "execution_count": 17,
   "metadata": {
    "collapsed": true
   },
   "outputs": [],
   "source": [
    "ndist=np.sort(pairdist)"
   ]
  },
  {
   "cell_type": "code",
   "execution_count": 18,
   "metadata": {
    "collapsed": true
   },
   "outputs": [],
   "source": [
    "ndist=ndist[:,19]"
   ]
  },
  {
   "cell_type": "code",
   "execution_count": 24,
   "metadata": {
    "collapsed": true
   },
   "outputs": [],
   "source": [
    "ndist=np.sort(ndist)[::-1]"
   ]
  },
  {
   "cell_type": "code",
   "execution_count": 25,
   "metadata": {
    "collapsed": true
   },
   "outputs": [],
   "source": [
    "plotx=range(0,len(ndist))"
   ]
  },
  {
   "cell_type": "code",
   "execution_count": 26,
   "metadata": {
    "collapsed": false
   },
   "outputs": [
    {
     "data": {
      "text/plain": [
       "[<matplotlib.lines.Line2D at 0x7f51e8a4f9b0>]"
      ]
     },
     "execution_count": 26,
     "metadata": {},
     "output_type": "execute_result"
    }
   ],
   "source": [
    "plt.plot(plotx, ndist)"
   ]
  },
  {
   "cell_type": "code",
   "execution_count": 27,
   "metadata": {
    "collapsed": false
   },
   "outputs": [
    {
     "data": {
      "image/png": "[encoded data removed]",
      "text/plain": [
       "<matplotlib.figure.Figure at 0x7f51e8ac7b00>"
      ]
     },
     "metadata": {},
     "output_type": "display_data"
    }
   ],
   "source": [
    "plt.show()"
   ]
  },
  {
   "cell_type": "code",
   "execution_count": 29,
   "metadata": {
    "collapsed": false
   },
   "outputs": [
    {
     "data": {
      "text/plain": [
       "0.88511796114242547"
      ]
     },
     "execution_count": 29,
     "metadata": {},
     "output_type": "execute_result"
    }
   ],
   "source": [
    "ndist[750]"
   ]
  },
  {
   "cell_type": "code",
   "execution_count": 30,
   "metadata": {
    "collapsed": true
   },
   "outputs": [],
   "source": [
    "db = DBSCAN(eps=0.885, min_samples=19).fit(weather)"
   ]
  },
  {
   "cell_type": "code",
   "execution_count": 31,
   "metadata": {
    "collapsed": true
   },
   "outputs": [],
   "source": [
    "labels = db.labels_"
   ]
  },
  {
   "cell_type": "code",
   "execution_count": 32,
   "metadata": {
    "collapsed": false
   },
   "outputs": [
    {
     "data": {
      "text/plain": [
       "array([-1, -1, -1, ...,  9,  9,  5])"
      ]
     },
     "execution_count": 32,
     "metadata": {},
     "output_type": "execute_result"
    }
   ],
   "source": [
    "labels"
   ]
  },
  {
   "cell_type": "code",
   "execution_count": 33,
   "metadata": {
    "collapsed": true
   },
   "outputs": [],
   "source": [
    "influence_cluster=np.c_[influence,labels]"
   ]
  },
  {
   "cell_type": "code",
   "execution_count": 34,
   "metadata": {
    "collapsed": false
   },
   "outputs": [
    {
     "data": {
      "text/plain": [
       "array([[  0.        ,   7.4       ,  30.        ,   1.        ,  -1.        ],\n",
       "       [  0.        ,   7.4       ,  30.        ,   1.        ,  -1.        ],\n",
       "       [  0.        ,   7.4       ,  30.        ,   1.        ,  -1.        ],\n",
       "       ..., \n",
       "       [  0.        ,   4.05      ,  32.        ,   1.        ,   9.        ],\n",
       "       [  0.        ,   4.05      ,  32.        ,   1.        ,   9.        ],\n",
       "       [  1.        ,   1.71666667,  32.        ,   2.        ,   5.        ]])"
      ]
     },
     "execution_count": 34,
     "metadata": {},
     "output_type": "execute_result"
    }
   ],
   "source": [
    "influence_cluster"
   ]
  },
  {
   "cell_type": "code",
   "execution_count": 35,
   "metadata": {
    "collapsed": true
   },
   "outputs": [],
   "source": [
    "np.save(\"dbscan_result\",influence_cluster)"
   ]
  },
  {
   "cell_type": "code",
   "execution_count": null,
   "metadata": {
    "collapsed": true
   },
   "outputs": [],
   "source": []
  }
 ],
 "metadata": {
  "anaconda-cloud": {},
  "kernelspec": {
   "display_name": "Python [default]",
   "language": "python",
   "name": "python3"
  },
  "language_info": {
   "codemirror_mode": {
    "name": "ipython",
    "version": 3
   },
   "file_extension": ".py",
   "mimetype": "text/x-python",
   "name": "python",
   "nbconvert_exporter": "python",
   "pygments_lexer": "ipython3",
   "version": "3.5.2"
  }
 },
 "nbformat": 4,
 "nbformat_minor": 2
}
